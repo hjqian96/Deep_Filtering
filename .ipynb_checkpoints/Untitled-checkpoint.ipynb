{
 "cells": [
  {
   "cell_type": "code",
   "execution_count": 61,
   "metadata": {},
   "outputs": [],
   "source": [
    "import time\n",
    "import numpy as np\n",
    "import pandas as pd\n",
    "import tensorflow as tf\n",
    "from tensorflow import keras\n",
    "import matplotlib.pyplot as plt\n",
    "%matplotlib inline\n",
    "%config InlineBackend.figure_format = 'svg'\n",
    "np.set_printoptions(suppress=True) "
   ]
  },
  {
   "cell_type": "code",
   "execution_count": 62,
   "metadata": {},
   "outputs": [],
   "source": [
    "dimX=2; dimY=1  \n",
    "sigma0_train=0.5; eta=0.005\n",
    "N=1000; n0=50; N_sample= 1000\n",
    "\n",
    "#Deterministic Matrix\n",
    "F0=np.array([[0.1,0.5],[0,0.1]],dtype='float64')\n",
    "F=np.eye(dimX)+eta*F0\n",
    "G=np.sqrt(eta)*np.array([[0.7,-0.6],[0,0.7]],dtype='float64')\n",
    "H=np.array([[0,1]],dtype='float64')\n",
    "x0=np.array([[1],[-1]],dtype='float64')\n",
    "\n",
    "#Covariance Matrix for random variable\n",
    "Q0=np.eye(dimX) #random variable u_n\n",
    "R0=sigma0_train*sigma0_train*np.eye(dimY) #random variable v_n\n",
    "\n",
    "rng=np.random.default_rng()\n",
    "u=[rng.multivariate_normal(np.zeros(dimX),np.eye(dimX),1).reshape(dimX,1) for i in range(N)] #!!!\n",
    "v=[rng.multivariate_normal(np.zeros(dimY),np.eye(dimY),1).reshape(dimY,1) for i in range(N+1)] #!!!\n",
    "u=np.array(u)\n",
    "v=np.array(v)"
   ]
  },
  {
   "cell_type": "code",
   "execution_count": 63,
   "metadata": {},
   "outputs": [],
   "source": [
    "#--------------------------------------\n",
    "# Monte Carlo Simulation for once\n",
    "#--------------------------------------\n",
    "def mc_simulation(F,G,H,u,v):\n",
    "    x_raw=np.zeros((N+1,dimX,1),dtype='float64'); x_raw[0]=x0                                     \n",
    "    y_raw=np.zeros((N+1,dimY,1),dtype='float64'); y_raw[0]=H@x0+sigma0_train*v[0] #!!!\n",
    "    \n",
    "    for k in range(N):\n",
    "        x_raw[k+1]=F@x_raw[k]+G@u[k]  #!!!\n",
    "        y_raw[k+1]=H@x_raw[k+1]+sigma0_train*v[k+1] #!!!\n",
    "    \n",
    "    return x_raw, y_raw\n",
    "\n",
    "#----------------------------------\n",
    "# Kalman Filtering Algorithm\n",
    "#----------------------------------\n",
    "def kalman_filtering(F,G,H,Q0,R0,x0,y_raw):\n",
    "    #caution: need to specific x is dimX x 1 to be column vector\n",
    "    x_hat=np.zeros((N+1,dimX,1),dtype='float64'); x_hat[0]=x0\n",
    "    R=np.zeros((N+1,dimX,dimX),dtype='float64'); R[0]=np.eye(dimX)  #!!!!!\n",
    "    if dimY==1:\n",
    "        #y_raw has to be column array or vector.\n",
    "        for k in range(N):\n",
    "            inv=1.0/(H@R[k]@H.T+R0)\n",
    "            x_hat[k+1]=F@x_hat[k]+F@R[k]@H.T*inv*(y_raw[k]-H@x_hat[k]) #!!!\n",
    "            R[k+1]=F@(R[k]-(R[k]@H.T*inv@H)*R[k])@F.T+G@Q0@G.T            #!!!\n",
    "        x_bar=[x_hat[k]+R[k]@H.T*np.linalg.inv(H@R[k]@H.T+R0)*(y_raw[k]-H@x_hat[k]) for k in range(N+1)]\n",
    "    else:\n",
    "        for k in range(N):\n",
    "            x_hat[k+1]=F@x_hat[k]+F@R[k]@H.T@np.linalg.inv(H@R[k]@H.T+R0)@(y_raw[k]-H@x_hat[k]) #!!!\n",
    "            R[k+1]=F@(R[k]-R[k]@H.T@np.linalg.inv(H@R[k]@H.T+R0)@H@R[k])@F.T+G@Q0@G.T           #!!!\n",
    "        x_bar=[x_hat[k]+R[k]@H.T@np.linalg.inv(H@R[k]@H.T+R0)@(y_raw[k]-H@x_hat[k]) for k in range(N+1)]\n",
    "        \n",
    "    #make list to np.array\n",
    "    x_bar=np.array(x_bar) \n",
    "    \n",
    "    return x_hat, x_bar, R\n"
   ]
  },
  {
   "cell_type": "code",
   "execution_count": 64,
   "metadata": {},
   "outputs": [],
   "source": [
    "x_raw,y_raw=mc_simulation(F,G,H,u,v)"
   ]
  },
  {
   "cell_type": "code",
   "execution_count": 65,
   "metadata": {},
   "outputs": [
    {
     "data": {
      "text/plain": [
       "array([[[-1.40399545]],\n",
       "\n",
       "       [[-1.29182446]],\n",
       "\n",
       "       [[-1.00759867]],\n",
       "\n",
       "       ...,\n",
       "\n",
       "       [[-4.81104313]],\n",
       "\n",
       "       [[-5.96803054]],\n",
       "\n",
       "       [[-6.28233737]]])"
      ]
     },
     "execution_count": 65,
     "metadata": {},
     "output_type": "execute_result"
    }
   ],
   "source": [
    "y_raw"
   ]
  },
  {
   "cell_type": "code",
   "execution_count": 66,
   "metadata": {},
   "outputs": [
    {
     "name": "stderr",
     "output_type": "stream",
     "text": [
      "<ipython-input-63-3a996320b73f>:26: RuntimeWarning: overflow encountered in multiply\n",
      "  R[k+1]=F@(R[k]-(R[k]@H.T*inv@H)*R[k])@F.T+G@Q0@G.T            #!!!\n",
      "<ipython-input-63-3a996320b73f>:26: RuntimeWarning: invalid value encountered in matmul\n",
      "  R[k+1]=F@(R[k]-(R[k]@H.T*inv@H)*R[k])@F.T+G@Q0@G.T            #!!!\n",
      "<ipython-input-63-3a996320b73f>:24: RuntimeWarning: invalid value encountered in matmul\n",
      "  inv=1.0/(H@R[k]@H.T+R0)\n",
      "<ipython-input-63-3a996320b73f>:25: RuntimeWarning: invalid value encountered in matmul\n",
      "  x_hat[k+1]=F@x_hat[k]+F@R[k]@H.T*inv*(y_raw[k]-H@x_hat[k]) #!!!\n",
      "<ipython-input-63-3a996320b73f>:27: RuntimeWarning: invalid value encountered in matmul\n",
      "  x_bar=[x_hat[k]+R[k]@H.T*np.linalg.inv(H@R[k]@H.T+R0)*(y_raw[k]-H@x_hat[k]) for k in range(N+1)]\n"
     ]
    }
   ],
   "source": [
    "x_hat, x_bar, R=kalman_filtering(F,G,H,Q0,R0,x0,y_raw)"
   ]
  },
  {
   "cell_type": "code",
   "execution_count": 67,
   "metadata": {},
   "outputs": [
    {
     "data": {
      "text/plain": [
       "array([[[ 1.        ],\n",
       "        [-1.        ]],\n",
       "\n",
       "       [[ 0.99719201],\n",
       "        [-1.32385796]],\n",
       "\n",
       "       [[ 0.99430354],\n",
       "        [-1.31017142]],\n",
       "\n",
       "       ...,\n",
       "\n",
       "       [[        nan],\n",
       "        [        nan]],\n",
       "\n",
       "       [[        nan],\n",
       "        [        nan]],\n",
       "\n",
       "       [[        nan],\n",
       "        [        nan]]])"
      ]
     },
     "execution_count": 67,
     "metadata": {},
     "output_type": "execute_result"
    }
   ],
   "source": [
    "x_hat"
   ]
  },
  {
   "cell_type": "code",
   "execution_count": 68,
   "metadata": {},
   "outputs": [
    {
     "data": {
      "text/plain": [
       "array([[[ 1.        ],\n",
       "        [-1.32319636]],\n",
       "\n",
       "       [[ 0.9970788 ],\n",
       "        [-1.30951666]],\n",
       "\n",
       "       [[ 0.99145862],\n",
       "        [-1.21513242]],\n",
       "\n",
       "       ...,\n",
       "\n",
       "       [[        nan],\n",
       "        [        nan]],\n",
       "\n",
       "       [[        nan],\n",
       "        [        nan]],\n",
       "\n",
       "       [[        nan],\n",
       "        [        nan]]])"
      ]
     },
     "execution_count": 68,
     "metadata": {},
     "output_type": "execute_result"
    }
   ],
   "source": [
    "x_bar"
   ]
  },
  {
   "cell_type": "code",
   "execution_count": 69,
   "metadata": {},
   "outputs": [
    {
     "data": {
      "text/plain": [
       "(1001, 2, 2)"
      ]
     },
     "execution_count": 69,
     "metadata": {},
     "output_type": "execute_result"
    }
   ],
   "source": [
    "R.shape"
   ]
  },
  {
   "cell_type": "code",
   "execution_count": 72,
   "metadata": {},
   "outputs": [
    {
     "data": {
      "text/plain": [
       "array([[[ 1.00000000e+000,  0.00000000e+000],\n",
       "        [ 0.00000000e+000,  1.00000000e+000]],\n",
       "\n",
       "       [[ 1.00525150e+000, -1.59975000e-003],\n",
       "        [-1.59975000e-003,  2.02650050e-001]],\n",
       "\n",
       "       [[ 1.01049969e+000, -3.42705912e-003],\n",
       "        [-3.42139965e-003,  1.14486191e-001]],\n",
       "\n",
       "       [[ 1.01574372e+000, -5.36632947e-003],\n",
       "        [-5.32840939e-003,  8.10542853e-002]],\n",
       "\n",
       "       [[ 1.02098313e+000, -7.40567183e-003],\n",
       "        [-7.28063960e-003,  6.37204347e-002]],\n",
       "\n",
       "       [[ 1.02621751e+000, -9.56106364e-003],\n",
       "        [-9.26091349e-003,  5.32788304e-002]],\n",
       "\n",
       "       [[ 1.03144643e+000, -1.18624949e-002],\n",
       "        [-1.12603243e-002,  4.64129453e-002]],\n",
       "\n",
       "       [[ 1.03666936e+000, -1.43516615e-002],\n",
       "        [-1.32736747e-002,  4.16346667e-002]],\n",
       "\n",
       "       [[ 1.04188564e+000, -1.70837127e-002],\n",
       "        [-1.52976802e-002,  3.81764726e-002]],\n",
       "\n",
       "       [[ 1.04709447e+000, -2.01317335e-002],\n",
       "        [-1.73301427e-002,  3.56021327e-002]],\n",
       "\n",
       "       [[ 1.05229477e+000, -2.35944009e-002],\n",
       "        [-1.93695280e-002,  3.36452710e-002]],\n",
       "\n",
       "       [[ 1.05748514e+000, -2.76084392e-002],\n",
       "        [-2.14147294e-002,  3.21340175e-002]],\n",
       "\n",
       "       [[ 1.06266369e+000, -3.23691809e-002],\n",
       "        [-2.34649287e-002,  3.09525533e-002]],\n",
       "\n",
       "       [[ 1.06782781e+000, -3.81657245e-002],\n",
       "        [-2.55195088e-002,  3.00200588e-002]],\n",
       "\n",
       "       [[ 1.07297377e+000, -4.54439158e-002],\n",
       "        [-2.75779970e-002,  2.92785123e-002]],\n",
       "\n",
       "       [[ 1.07809603e+000, -5.49257999e-002],\n",
       "        [-2.96400264e-002,  2.86852784e-002]],\n",
       "\n",
       "       [[ 1.08318596e+000, -6.78524739e-002],\n",
       "        [-3.17053100e-002,  2.82084210e-002]],\n",
       "\n",
       "       [[ 1.08822917e+000, -8.65220878e-002],\n",
       "        [-3.37736209e-002,  2.78236356e-002]],\n",
       "\n",
       "       [[ 1.09319954e+000, -1.15618369e-001],\n",
       "        [-3.58447788e-002,  2.75121821e-002]],\n",
       "\n",
       "       [[ 1.09804383e+000, -1.65989648e-001],\n",
       "        [-3.79186399e-002,  2.72594525e-002]],\n",
       "\n",
       "       [[ 1.10263372e+000, -2.67668258e-001],\n",
       "        [-3.99950888e-002,  2.70539572e-002]],\n",
       "\n",
       "       [[ 1.10657041e+000, -5.28834114e-001],\n",
       "        [-4.20740330e-002,  2.68865918e-002]],\n",
       "\n",
       "       [[ 1.10797307e+000, -1.54244899e+000],\n",
       "        [-4.41553976e-002,  2.67500979e-002]],\n",
       "\n",
       "       [[ 1.08786038e+000, -1.01513712e+001],\n",
       "        [-4.62391227e-002,  2.66386587e-002]],\n",
       "\n",
       "       [[ 1.35954234e-001, -3.83044976e+002],\n",
       "        [-4.83251595e-002,  2.65475937e-002]],\n",
       "\n",
       "       [[-1.32786626e+003, -5.31468196e+005],\n",
       "        [-5.04134689e-002,  2.64731235e-002]],\n",
       "\n",
       "       [[-2.55540179e+009, -1.02267127e+012],\n",
       "        [-5.25040195e-002,  2.64121874e-002]],\n",
       "\n",
       "       [[-9.46394093e+021, -3.78746916e+024],\n",
       "        [-5.45967857e-002,  2.63623015e-002]],\n",
       "\n",
       "       [[-1.29830435e+047, -5.19581399e+049],\n",
       "        [-5.66917474e-002,  2.63214454e-002]],\n",
       "\n",
       "       [[-2.44371019e+097, -9.77972819e+099],\n",
       "        [-5.87888881e-002,  2.62879737e-002]],\n",
       "\n",
       "       [[-8.65862019e+197, -3.46517980e+200],\n",
       "        [-6.08881951e-002,  2.62605444e-002]],\n",
       "\n",
       "       [[            -inf,             -inf],\n",
       "        [             nan,              nan]],\n",
       "\n",
       "       [[             nan,              nan],\n",
       "        [             nan,              nan]],\n",
       "\n",
       "       [[             nan,              nan],\n",
       "        [             nan,              nan]],\n",
       "\n",
       "       [[             nan,              nan],\n",
       "        [             nan,              nan]],\n",
       "\n",
       "       [[             nan,              nan],\n",
       "        [             nan,              nan]],\n",
       "\n",
       "       [[             nan,              nan],\n",
       "        [             nan,              nan]],\n",
       "\n",
       "       [[             nan,              nan],\n",
       "        [             nan,              nan]],\n",
       "\n",
       "       [[             nan,              nan],\n",
       "        [             nan,              nan]],\n",
       "\n",
       "       [[             nan,              nan],\n",
       "        [             nan,              nan]],\n",
       "\n",
       "       [[             nan,              nan],\n",
       "        [             nan,              nan]],\n",
       "\n",
       "       [[             nan,              nan],\n",
       "        [             nan,              nan]],\n",
       "\n",
       "       [[             nan,              nan],\n",
       "        [             nan,              nan]],\n",
       "\n",
       "       [[             nan,              nan],\n",
       "        [             nan,              nan]],\n",
       "\n",
       "       [[             nan,              nan],\n",
       "        [             nan,              nan]],\n",
       "\n",
       "       [[             nan,              nan],\n",
       "        [             nan,              nan]],\n",
       "\n",
       "       [[             nan,              nan],\n",
       "        [             nan,              nan]],\n",
       "\n",
       "       [[             nan,              nan],\n",
       "        [             nan,              nan]],\n",
       "\n",
       "       [[             nan,              nan],\n",
       "        [             nan,              nan]],\n",
       "\n",
       "       [[             nan,              nan],\n",
       "        [             nan,              nan]],\n",
       "\n",
       "       [[             nan,              nan],\n",
       "        [             nan,              nan]],\n",
       "\n",
       "       [[             nan,              nan],\n",
       "        [             nan,              nan]],\n",
       "\n",
       "       [[             nan,              nan],\n",
       "        [             nan,              nan]],\n",
       "\n",
       "       [[             nan,              nan],\n",
       "        [             nan,              nan]],\n",
       "\n",
       "       [[             nan,              nan],\n",
       "        [             nan,              nan]],\n",
       "\n",
       "       [[             nan,              nan],\n",
       "        [             nan,              nan]],\n",
       "\n",
       "       [[             nan,              nan],\n",
       "        [             nan,              nan]],\n",
       "\n",
       "       [[             nan,              nan],\n",
       "        [             nan,              nan]],\n",
       "\n",
       "       [[             nan,              nan],\n",
       "        [             nan,              nan]],\n",
       "\n",
       "       [[             nan,              nan],\n",
       "        [             nan,              nan]]])"
      ]
     },
     "execution_count": 72,
     "metadata": {},
     "output_type": "execute_result"
    }
   ],
   "source": [
    "R[0:60,:,:]"
   ]
  },
  {
   "cell_type": "code",
   "execution_count": null,
   "metadata": {},
   "outputs": [],
   "source": []
  },
  {
   "cell_type": "code",
   "execution_count": null,
   "metadata": {},
   "outputs": [],
   "source": []
  }
 ],
 "metadata": {
  "kernelspec": {
   "display_name": "Python 3",
   "language": "python",
   "name": "python3"
  },
  "language_info": {
   "codemirror_mode": {
    "name": "ipython",
    "version": 3
   },
   "file_extension": ".py",
   "mimetype": "text/x-python",
   "name": "python",
   "nbconvert_exporter": "python",
   "pygments_lexer": "ipython3",
   "version": "3.8.3"
  }
 },
 "nbformat": 4,
 "nbformat_minor": 4
}
